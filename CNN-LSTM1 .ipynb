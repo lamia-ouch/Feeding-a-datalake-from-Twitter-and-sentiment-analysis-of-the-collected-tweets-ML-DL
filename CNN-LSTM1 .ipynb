{
 "cells": [
  {
   "cell_type": "code",
   "execution_count": 1,
   "metadata": {},
   "outputs": [
    {
     "name": "stderr",
     "output_type": "stream",
     "text": [
      "Using TensorFlow backend.\n"
     ]
    }
   ],
   "source": [
    "import numpy as np \n",
    "import pandas as pd \n",
    "from keras.preprocessing.text import Tokenizer\n",
    "from keras.preprocessing.sequence import pad_sequences\n",
    "from keras.models import Sequential\n",
    "from keras.layers import Dense, Flatten, LSTM, Conv1D, MaxPooling1D, Dropout, Activation, Embedding\n",
    "from sklearn.model_selection import train_test_split\n",
    "from sklearn.preprocessing import LabelEncoder\n",
    "from keras.utils.np_utils import to_categorical\n",
    "import re\n",
    "import matplotlib.pyplot as plt\n",
    "import seaborn as sns"
   ]
  },
  {
   "cell_type": "markdown",
   "metadata": {},
   "source": [
    "### Imbalanced \n"
   ]
  },
  {
   "cell_type": "code",
   "execution_count": 29,
   "metadata": {},
   "outputs": [],
   "source": [
    "df= pd.read_csv('test17.csv')"
   ]
  },
  {
   "cell_type": "code",
   "execution_count": 30,
   "metadata": {},
   "outputs": [],
   "source": [
    "df = df\n",
    "df = df.dropna()\n",
    "df.isna().sum()\n",
    "df = df[[\"text\",\"Sentiment\"]]"
   ]
  },
  {
   "cell_type": "code",
   "execution_count": 31,
   "metadata": {},
   "outputs": [],
   "source": [
    "X = df.text\n",
    "Y = df.Sentiment\n",
    "label_encoder = LabelEncoder()\n",
    "Y = label_encoder.fit_transform(Y)\n",
    "Y = to_categorical(Y)\n"
   ]
  },
  {
   "cell_type": "code",
   "execution_count": 32,
   "metadata": {},
   "outputs": [],
   "source": [
    "max_words = len(set(\" \".join(X).split()))\n",
    "max_len = X.apply(lambda x: len(x)).max()"
   ]
  },
  {
   "cell_type": "code",
   "execution_count": 33,
   "metadata": {},
   "outputs": [
    {
     "data": {
      "text/plain": [
       "(16434, 162)"
      ]
     },
     "execution_count": 33,
     "metadata": {},
     "output_type": "execute_result"
    }
   ],
   "source": [
    "max_words, max_len"
   ]
  },
  {
   "cell_type": "code",
   "execution_count": 34,
   "metadata": {},
   "outputs": [],
   "source": [
    "tokenizer = Tokenizer(num_words=max_words)\n",
    "tokenizer.fit_on_texts(X)\n",
    "X = tokenizer.texts_to_sequences(X)\n",
    "X = pad_sequences(X)"
   ]
  },
  {
   "cell_type": "code",
   "execution_count": 35,
   "metadata": {},
   "outputs": [],
   "source": [
    "X_train, X_test, Y_train, Y_test = train_test_split(X, Y, test_size=0.3)"
   ]
  },
  {
   "cell_type": "code",
   "execution_count": 36,
   "metadata": {},
   "outputs": [
    {
     "name": "stdout",
     "output_type": "stream",
     "text": [
      "Model: \"sequential_3\"\n",
      "_________________________________________________________________\n",
      "Layer (type)                 Output Shape              Param #   \n",
      "=================================================================\n",
      "embedding_3 (Embedding)      (None, 24, 100)           1643400   \n",
      "_________________________________________________________________\n",
      "dropout_3 (Dropout)          (None, 24, 100)           0         \n",
      "_________________________________________________________________\n",
      "conv1d_3 (Conv1D)            (None, 20, 64)            32064     \n",
      "_________________________________________________________________\n",
      "max_pooling1d_3 (MaxPooling1 (None, 5, 64)             0         \n",
      "_________________________________________________________________\n",
      "lstm_3 (LSTM)                (None, 100)               66000     \n",
      "_________________________________________________________________\n",
      "dense_3 (Dense)              (None, 3)                 303       \n",
      "=================================================================\n",
      "Total params: 1,741,767\n",
      "Trainable params: 1,741,767\n",
      "Non-trainable params: 0\n",
      "_________________________________________________________________\n",
      "None\n"
     ]
    }
   ],
   "source": [
    "embed_dim = 128\n",
    "lstm_out = 100\n",
    "\n",
    "model = Sequential()\n",
    "model.add(Embedding(max_words, 100, input_length=X.shape[1]))\n",
    "model.add(Dropout(0.4))\n",
    "model.add(Conv1D(64, 5, activation='relu'))\n",
    "model.add(MaxPooling1D(pool_size=4))\n",
    "model.add(LSTM(lstm_out, dropout=0.3, recurrent_dropout=0.2))\n",
    "model.add(Dense(3,activation='softmax'))\n",
    "model.compile(loss = 'categorical_crossentropy', optimizer='adam',metrics = ['accuracy'])\n",
    "print(model.summary())"
   ]
  },
  {
   "cell_type": "code",
   "execution_count": 37,
   "metadata": {},
   "outputs": [
    {
     "name": "stderr",
     "output_type": "stream",
     "text": [
      "C:\\Users\\ab\\anaconda3\\envs\\tf\\lib\\site-packages\\tensorflow_core\\python\\framework\\indexed_slices.py:424: UserWarning: Converting sparse IndexedSlices to a dense Tensor of unknown shape. This may consume a large amount of memory.\n",
      "  \"Converting sparse IndexedSlices to a dense Tensor of unknown shape. \"\n"
     ]
    },
    {
     "name": "stdout",
     "output_type": "stream",
     "text": [
      "Train on 4827 samples, validate on 1207 samples\n",
      "Epoch 1/10\n",
      "4827/4827 [==============================] - 7s 1ms/step - loss: 0.7889 - accuracy: 0.7361 - val_loss: 0.7165 - val_accuracy: 0.7448\n",
      "Epoch 2/10\n",
      "4827/4827 [==============================] - 5s 1ms/step - loss: 0.6423 - accuracy: 0.7543 - val_loss: 0.5835 - val_accuracy: 0.7448\n",
      "Epoch 3/10\n",
      "4827/4827 [==============================] - 5s 1ms/step - loss: 0.4665 - accuracy: 0.7914 - val_loss: 0.5336 - val_accuracy: 0.7796\n",
      "Epoch 4/10\n",
      "4827/4827 [==============================] - 5s 1ms/step - loss: 0.3291 - accuracy: 0.8560 - val_loss: 0.5575 - val_accuracy: 0.7821\n",
      "Epoch 5/10\n",
      "4827/4827 [==============================] - 6s 1ms/step - loss: 0.2381 - accuracy: 0.8825 - val_loss: 0.6444 - val_accuracy: 0.7788\n",
      "Epoch 6/10\n",
      "4827/4827 [==============================] - 6s 1ms/step - loss: 0.1866 - accuracy: 0.9117 - val_loss: 0.7306 - val_accuracy: 0.7871\n",
      "Epoch 7/10\n",
      "4827/4827 [==============================] - 5s 1ms/step - loss: 0.1343 - accuracy: 0.9480 - val_loss: 0.7974 - val_accuracy: 0.7887\n",
      "Epoch 8/10\n",
      "4827/4827 [==============================] - 5s 1ms/step - loss: 0.0956 - accuracy: 0.9673 - val_loss: 0.8448 - val_accuracy: 0.7896\n",
      "Epoch 9/10\n",
      "4827/4827 [==============================] - 5s 948us/step - loss: 0.0671 - accuracy: 0.9787 - val_loss: 0.8537 - val_accuracy: 0.7904\n",
      "Epoch 10/10\n",
      "4827/4827 [==============================] - 5s 1ms/step - loss: 0.0486 - accuracy: 0.9849 - val_loss: 0.9270 - val_accuracy: 0.7912\n"
     ]
    }
   ],
   "source": [
    "verbose = 1\n",
    "epochs = 10\n",
    "batch_size = 120\n",
    "validation_split = 0.2\n",
    "history1 = model.fit(X_train,Y_train,batch_size=batch_size,epochs=epochs,verbose=verbose,validation_split=validation_split)"
   ]
  },
  {
   "cell_type": "code",
   "execution_count": 38,
   "metadata": {},
   "outputs": [],
   "source": [
    "def plot_performance(history=None, figure_directory=None, ylim_pad=[0, 0]):\n",
    "    xlabel = 'Epoch'\n",
    "    legends = ['Training', 'Validation']\n",
    "\n",
    "    plt.figure(figsize=(20, 5))\n",
    "\n",
    "    y1 = history.history['accuracy']\n",
    "    y2 = history.history['val_accuracy']\n",
    "\n",
    "    min_y = min(min(y1), min(y2))-ylim_pad[0]\n",
    "    max_y = max(max(y1), max(y2))+ylim_pad[0]\n",
    "\n",
    "\n",
    "    plt.subplot(121)\n",
    "\n",
    "    plt.plot(y1)\n",
    "    plt.plot(y2)\n",
    "\n",
    "    plt.title('Model Accuracy', fontsize=17)\n",
    "    plt.xlabel(xlabel, fontsize=15)\n",
    "    plt.ylabel('Accuracy', fontsize=15)\n",
    "    plt.ylim(min_y, max_y)\n",
    "    plt.legend(legends, loc='upper left')\n",
    "    plt.grid()\n",
    "\n",
    "    y1 = history.history['loss']\n",
    "    y2 = history.history['val_loss']\n",
    "\n",
    "    min_y = min(min(y1), min(y2))-ylim_pad[1]\n",
    "    max_y = max(max(y1), max(y2))+ylim_pad[1]\n",
    "\n",
    "\n",
    "    plt.subplot(122)\n",
    "\n",
    "    plt.plot(y1)\n",
    "    plt.plot(y2)\n",
    "\n",
    "    plt.title('Model Loss',fontsize=17)\n",
    "    plt.xlabel(xlabel, fontsize=15)\n",
    "    plt.ylabel('Loss', fontsize=15)\n",
    "    plt.ylim(min_y, max_y)\n",
    "    plt.legend(legends, loc='upper left')\n",
    "    plt.grid()\n",
    "    if figure_directory:\n",
    "        plt.savefig(figure_directory+\"/history\")\n",
    "\n",
    "    plt.show()"
   ]
  },
  {
   "cell_type": "code",
   "execution_count": 39,
   "metadata": {},
   "outputs": [
    {
     "data": {
      "image/png": "[encoded data removed]",
      "text/plain": [
       "<Figure size 1440x360 with 2 Axes>"
      ]
     },
     "metadata": {
      "needs_background": "light"
     },
     "output_type": "display_data"
    }
   ],
   "source": [
    "plot_performance(history=history1)"
   ]
  },
  {
   "cell_type": "code",
   "execution_count": 40,
   "metadata": {},
   "outputs": [
    {
     "name": "stdout",
     "output_type": "stream",
     "text": [
      "2587/2587 [==============================] - 1s 243us/step\n"
     ]
    }
   ],
   "source": [
    "accuracy = model.evaluate(X_test, Y_test)"
   ]
  },
  {
   "cell_type": "code",
   "execution_count": 41,
   "metadata": {},
   "outputs": [
    {
     "name": "stdout",
     "output_type": "stream",
     "text": [
      "\n",
      "Model Performance of CNN (Test Accuracy):\n",
      "v: 78.66%\n",
      "Loss: 0.924\n",
      "\n"
     ]
    }
   ],
   "source": [
    "print(\"\\nModel Performance of CNN (Test Accuracy):\")\n",
    "print('v: {:0.2f}%\\nLoss: {:0.3f}\\n'.format(accuracy[1]*100, accuracy[0]))"
   ]
  },
  {
   "cell_type": "markdown",
   "metadata": {},
   "source": [
    "### Balanced"
   ]
  },
  {
   "cell_type": "code",
   "execution_count": 15,
   "metadata": {},
   "outputs": [],
   "source": [
    "df= pd.read_csv('test17.csv')"
   ]
  },
  {
   "cell_type": "code",
   "execution_count": 16,
   "metadata": {},
   "outputs": [],
   "source": [
    "df = df\n",
    "df = df.dropna()\n",
    "df.isna().sum()\n",
    "df = df[[\"text\",\"Sentiment\"]]"
   ]
  },
  {
   "cell_type": "code",
   "execution_count": 17,
   "metadata": {},
   "outputs": [],
   "source": [
    "X = df.text\n",
    "Y = df.Sentiment\n",
    "label_encoder = LabelEncoder()\n",
    "Y = label_encoder.fit_transform(Y)\n",
    "Y = to_categorical(Y)"
   ]
  },
  {
   "cell_type": "code",
   "execution_count": 18,
   "metadata": {},
   "outputs": [],
   "source": [
    "max_words = len(set(\" \".join(X).split()))\n",
    "max_len = X.apply(lambda x: len(x)).max()"
   ]
  },
  {
   "cell_type": "code",
   "execution_count": 19,
   "metadata": {},
   "outputs": [],
   "source": [
    "tokenizer = Tokenizer(num_words=max_words)\n",
    "tokenizer.fit_on_texts(X)\n",
    "X_train_seq = tokenizer.texts_to_sequences(X)\n",
    "X_train_seq = pad_sequences(X_train_seq)"
   ]
  },
  {
   "cell_type": "code",
   "execution_count": 20,
   "metadata": {},
   "outputs": [],
   "source": [
    "from imblearn.over_sampling import RandomOverSampler\n",
    "os=RandomOverSampler()"
   ]
  },
  {
   "cell_type": "code",
   "execution_count": 21,
   "metadata": {},
   "outputs": [
    {
     "name": "stderr",
     "output_type": "stream",
     "text": [
      "C:\\Users\\ab\\anaconda3\\envs\\tf\\lib\\site-packages\\sklearn\\utils\\validation.py:71: FutureWarning: Pass classes=[0 1 2] as keyword args. From version 0.25 passing these as positional arguments will result in an error\n",
      "  FutureWarning)\n"
     ]
    }
   ],
   "source": [
    "X,Y= os.fit_sample(X_train_seq, Y)"
   ]
  },
  {
   "cell_type": "code",
   "execution_count": 22,
   "metadata": {},
   "outputs": [],
   "source": [
    "X_train, X_test, Y_train, Y_test = train_test_split(X, Y, test_size=0.3)"
   ]
  },
  {
   "cell_type": "code",
   "execution_count": 23,
   "metadata": {},
   "outputs": [
    {
     "name": "stdout",
     "output_type": "stream",
     "text": [
      "Model: \"sequential_2\"\n",
      "_________________________________________________________________\n",
      "Layer (type)                 Output Shape              Param #   \n",
      "=================================================================\n",
      "embedding_2 (Embedding)      (None, 24, 100)           1643400   \n",
      "_________________________________________________________________\n",
      "dropout_2 (Dropout)          (None, 24, 100)           0         \n",
      "_________________________________________________________________\n",
      "conv1d_2 (Conv1D)            (None, 20, 64)            32064     \n",
      "_________________________________________________________________\n",
      "max_pooling1d_2 (MaxPooling1 (None, 5, 64)             0         \n",
      "_________________________________________________________________\n",
      "lstm_2 (LSTM)                (None, 200)               212000    \n",
      "_________________________________________________________________\n",
      "dense_2 (Dense)              (None, 3)                 603       \n",
      "=================================================================\n",
      "Total params: 1,888,067\n",
      "Trainable params: 1,888,067\n",
      "Non-trainable params: 0\n",
      "_________________________________________________________________\n",
      "None\n"
     ]
    }
   ],
   "source": [
    "embed_dim = 128\n",
    "lstm_out = 200\n",
    "\n",
    "model = Sequential()\n",
    "model.add(Embedding(max_words, 100, input_length=X.shape[1]))\n",
    "model.add(Dropout(0.4))\n",
    "model.add(Conv1D(64, 5, activation='relu'))\n",
    "model.add(MaxPooling1D(pool_size=4))\n",
    "model.add(LSTM(lstm_out, dropout=0.3, recurrent_dropout=0.2))\n",
    "model.add(Dense(3,activation='softmax'))\n",
    "model.compile(loss = 'categorical_crossentropy', optimizer='adam',metrics = ['accuracy'])\n",
    "print(model.summary())"
   ]
  },
  {
   "cell_type": "code",
   "execution_count": 24,
   "metadata": {},
   "outputs": [
    {
     "name": "stderr",
     "output_type": "stream",
     "text": [
      "C:\\Users\\ab\\anaconda3\\envs\\tf\\lib\\site-packages\\tensorflow_core\\python\\framework\\indexed_slices.py:424: UserWarning: Converting sparse IndexedSlices to a dense Tensor of unknown shape. This may consume a large amount of memory.\n",
      "  \"Converting sparse IndexedSlices to a dense Tensor of unknown shape. \"\n"
     ]
    },
    {
     "name": "stdout",
     "output_type": "stream",
     "text": [
      "Train on 10884 samples, validate on 2721 samples\n",
      "Epoch 1/10\n",
      "10884/10884 [==============================] - 16s 1ms/step - loss: 0.9126 - accuracy: 0.5500 - val_loss: 0.4803 - val_accuracy: 0.8199\n",
      "Epoch 2/10\n",
      "10884/10884 [==============================] - 13s 1ms/step - loss: 0.2690 - accuracy: 0.9053 - val_loss: 0.2307 - val_accuracy: 0.9210\n",
      "Epoch 3/10\n",
      "10884/10884 [==============================] - 15s 1ms/step - loss: 0.1037 - accuracy: 0.9668 - val_loss: 0.2012 - val_accuracy: 0.9364\n",
      "Epoch 4/10\n",
      "10884/10884 [==============================] - 16s 1ms/step - loss: 0.0542 - accuracy: 0.9836 - val_loss: 0.1921 - val_accuracy: 0.9445\n",
      "Epoch 5/10\n",
      "10884/10884 [==============================] - 15s 1ms/step - loss: 0.0377 - accuracy: 0.9885 - val_loss: 0.1843 - val_accuracy: 0.9471\n",
      "Epoch 6/10\n",
      "10884/10884 [==============================] - 14s 1ms/step - loss: 0.0298 - accuracy: 0.9911 - val_loss: 0.2200 - val_accuracy: 0.9427\n",
      "Epoch 7/10\n",
      "10884/10884 [==============================] - 15s 1ms/step - loss: 0.0245 - accuracy: 0.9917 - val_loss: 0.2285 - val_accuracy: 0.9449\n",
      "Epoch 8/10\n",
      "10884/10884 [==============================] - 17s 2ms/step - loss: 0.0224 - accuracy: 0.9919 - val_loss: 0.2478 - val_accuracy: 0.9434\n",
      "Epoch 9/10\n",
      "10884/10884 [==============================] - 15s 1ms/step - loss: 0.0167 - accuracy: 0.9940 - val_loss: 0.2154 - val_accuracy: 0.9474\n",
      "Epoch 10/10\n",
      "10884/10884 [==============================] - 15s 1ms/step - loss: 0.0153 - accuracy: 0.9940 - val_loss: 0.2465 - val_accuracy: 0.9489\n"
     ]
    }
   ],
   "source": [
    "verbose = 1\n",
    "epochs = 10\n",
    "batch_size = 120\n",
    "validation_split = 0.2\n",
    "history1 = model.fit(X_train,Y_train,batch_size=batch_size,epochs=epochs,verbose=verbose,validation_split=validation_split)"
   ]
  },
  {
   "cell_type": "code",
   "execution_count": 25,
   "metadata": {},
   "outputs": [],
   "source": [
    "def plot_performance(history=None, figure_directory=None, ylim_pad=[0, 0]):\n",
    "    xlabel = 'Epoch'\n",
    "    legends = ['Training', 'Validation']\n",
    "\n",
    "    plt.figure(figsize=(20, 5))\n",
    "\n",
    "    y1 = history.history['accuracy']\n",
    "    y2 = history.history['val_accuracy']\n",
    "\n",
    "    min_y = min(min(y1), min(y2))-ylim_pad[0]\n",
    "    max_y = max(max(y1), max(y2))+ylim_pad[0]\n",
    "\n",
    "\n",
    "    plt.subplot(121)\n",
    "\n",
    "    plt.plot(y1)\n",
    "    plt.plot(y2)\n",
    "\n",
    "    plt.title('Model Accuracy', fontsize=17)\n",
    "    plt.xlabel(xlabel, fontsize=15)\n",
    "    plt.ylabel('Accuracy', fontsize=15)\n",
    "    plt.ylim(min_y, max_y)\n",
    "    plt.legend(legends, loc='upper left')\n",
    "    plt.grid()\n",
    "\n",
    "    y1 = history.history['loss']\n",
    "    y2 = history.history['val_loss']\n",
    "\n",
    "    min_y = min(min(y1), min(y2))-ylim_pad[1]\n",
    "    max_y = max(max(y1), max(y2))+ylim_pad[1]\n",
    "\n",
    "\n",
    "    plt.subplot(122)\n",
    "\n",
    "    plt.plot(y1)\n",
    "    plt.plot(y2)\n",
    "\n",
    "    plt.title('Model Loss',fontsize=17)\n",
    "    plt.xlabel(xlabel, fontsize=15)\n",
    "    plt.ylabel('Loss', fontsize=15)\n",
    "    plt.ylim(min_y, max_y)\n",
    "    plt.legend(legends, loc='upper left')\n",
    "    plt.grid()\n",
    "    if figure_directory:\n",
    "        plt.savefig(figure_directory+\"/history\")\n",
    "\n",
    "    plt.show()"
   ]
  },
  {
   "cell_type": "code",
   "execution_count": 26,
   "metadata": {},
   "outputs": [
    {
     "data": {
      "image/png": "[encoded data removed]",
      "text/plain": [
       "<Figure size 1440x360 with 2 Axes>"
      ]
     },
     "metadata": {
      "needs_background": "light"
     },
     "output_type": "display_data"
    }
   ],
   "source": [
    "plot_performance(history=history1)"
   ]
  },
  {
   "cell_type": "code",
   "execution_count": 27,
   "metadata": {},
   "outputs": [
    {
     "name": "stdout",
     "output_type": "stream",
     "text": [
      "5832/5832 [==============================] - 2s 331us/step\n"
     ]
    }
   ],
   "source": [
    "accuracy = model.evaluate(X_test, Y_test)"
   ]
  },
  {
   "cell_type": "code",
   "execution_count": 28,
   "metadata": {},
   "outputs": [
    {
     "name": "stdout",
     "output_type": "stream",
     "text": [
      "\n",
      "Model Performance of CNN (Test Accuracy):\n",
      "v: 94.96%\n",
      "Loss: 0.252\n",
      "\n"
     ]
    }
   ],
   "source": [
    "print(\"\\nModel Performance of CNN (Test Accuracy):\")\n",
    "print('v: {:0.2f}%\\nLoss: {:0.3f}\\n'.format(accuracy[1]*100, accuracy[0]))"
   ]
  },
  {
   "cell_type": "code",
   "execution_count": null,
   "metadata": {},
   "outputs": [],
   "source": []
  }
 ],
 "metadata": {
  "kernelspec": {
   "display_name": "Python 3",
   "language": "python",
   "name": "python3"
  },
  "language_info": {
   "codemirror_mode": {
    "name": "ipython",
    "version": 3
   },
   "file_extension": ".py",
   "mimetype": "text/x-python",
   "name": "python",
   "nbconvert_exporter": "python",
   "pygments_lexer": "ipython3",
   "version": "3.7.7"
  }
 },
 "nbformat": 4,
 "nbformat_minor": 4
}
