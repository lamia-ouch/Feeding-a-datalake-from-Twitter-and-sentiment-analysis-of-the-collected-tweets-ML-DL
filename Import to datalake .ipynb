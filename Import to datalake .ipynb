{
 "cells": [
  {
   "cell_type": "code",
   "execution_count": null,
   "metadata": {},
   "outputs": [],
   "source": [
    "## Use this only for Azure AD service-to-service authentication\n",
    "from azure.common.credentials import ServicePrincipalCredentials\n",
    "\n",
    "## Use this only for Azure AD end-user authentication\n",
    "from azure.common.credentials import UserPassCredentials\n",
    "\n",
    "## Use this only for Azure AD multi-factor authentication\n",
    "from msrestazure.azure_active_directory import AADTokenCredentials\n",
    "\n",
    "## Required for Azure Data Lake Storage Gen1 account management\n",
    "from azure.mgmt.datalake.store import DataLakeStoreAccountManagementClient\n",
    "from azure.mgmt.datalake.store.models import DataLakeStoreAccount\n",
    "\n",
    "## Required for Azure Data Lake Storage Gen1 filesystem management\n",
    "from azure.datalake.store import core, lib, multithread\n",
    "\n",
    "## Common Azure imports\n",
    "from azure.mgmt.resource.resources import ResourceManagementClient\n",
    "from azure.mgmt.resource.resources.models import ResourceGroup\n",
    "\n",
    "## Use these as needed for your application\n",
    "import logging, getpass, pprint, uuid, time\n"
   ]
  },
  {
   "cell_type": "code",
   "execution_count": null,
   "metadata": {},
   "outputs": [],
   "source": [
    "tenant = \n",
    "RESOURCE = \n",
    "client_id = \n",
    "client_secret = \n",
    "\n",
    "adlCreds = lib.auth(tenant_id = tenant,\n",
    "                client_secret = client_secret,\n",
    "                client_id = client_id,\n",
    "                resource = RESOURCE)"
   ]
  },
  {
   "cell_type": "code",
   "execution_count": null,
   "metadata": {},
   "outputs": [],
   "source": [
    "# Declare variables\n",
    "subscriptionId = \n",
    "adlsAccountName = \n",
    "\n",
    "## Create a filesystem client object\n",
    "adlsFileSystemClient = core.AzureDLFileSystem(adlCreds, store_name=adlsAccountName)"
   ]
  },
  {
   "cell_type": "code",
   "execution_count": null,
   "metadata": {},
   "outputs": [],
   "source": [
    "import time, threading\n",
    "def UF ():\n",
    "    x=multithread.ADLUploader(adlsFileSystemClient,lpath= \"corona.csv\", rpath = '/tweets/corona.csv',nthreads=64,overwrite=True,buffersize=41943040,blocksize=41943040)\n",
    "    threading.Timer(30,UF).start()\n",
    "UF()"
   ]
  }
 ],
 "metadata": {
  "kernelspec": {
   "display_name": "Python 3",
   "language": "python",
   "name": "python3"
  },
  "language_info": {
   "codemirror_mode": {
    "name": "ipython",
    "version": 3
   },
   "file_extension": ".py",
   "mimetype": "text/x-python",
   "name": "python",
   "nbconvert_exporter": "python",
   "pygments_lexer": "ipython3",
   "version": "3.7.7"
  }
 },
 "nbformat": 4,
 "nbformat_minor": 4
}
