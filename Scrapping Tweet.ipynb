{
 "cells": [
  {
   "cell_type": "code",
   "execution_count": null,
   "metadata": {},
   "outputs": [],
   "source": [
    "from tweepy.streaming import StreamListener\n",
    "from tweepy import OAuthHandler\n",
    "from tweepy import Stream\n",
    "import datetime\n",
    "import csv\n",
    "import requests"
   ]
  },
  {
   "cell_type": "code",
   "execution_count": null,
   "metadata": {},
   "outputs": [],
   "source": [
    "# Identifying access token and consumer key\n",
    "access_token = \n",
    "access_token_secret = \n",
    "consumer_key =  \n",
    "consumer_secret = "
   ]
  },
  {
   "cell_type": "code",
   "execution_count": null,
   "metadata": {},
   "outputs": [],
   "source": [
    "class StdOutListener(StreamListener): \n",
    "    def on_status(self, status):\n",
    "        if (status.lang == \"fr\" or status.lang == \"ar\") & (status.user.followers_count >= 500):\n",
    "            \n",
    "# Altering tweet text so that it keeps to one line\n",
    "            text_for_output = status.text.replace('\\n', ' ')\n",
    "            csvw.writerow([status.id,\n",
    "                           status.user.screen_name,\n",
    "# Using datetime to parse it to just get date\n",
    "                           status.created_at.strftime('%d/%m/%y'),\n",
    "                           status.user.followers_count,\n",
    "                           text_for_output])\n",
    "        return True \n",
    "    def on_error(self, status_code):\n",
    "        if status_code == 420:\n",
    "    # Returning False in on_error disconnects the stream\n",
    "            return False"
   ]
  },
  {
   "cell_type": "code",
   "execution_count": null,
   "metadata": {},
   "outputs": [],
   "source": [
    "l = StdOutListener()\n",
    "auth = OAuthHandler(consumer_key, consumer_secret)\n",
    "auth.set_access_token(access_token, access_token_secret)\n",
    "stream = Stream(auth, l)"
   ]
  },
  {
   "cell_type": "code",
   "execution_count": null,
   "metadata": {},
   "outputs": [],
   "source": [
    "\n",
    "with open(\"corona.csv\", \"a\", newline='') as myfile:\n",
    "    csvw = csv.writer(myfile, quoting=csv.QUOTE_ALL)\n",
    "    csvw.writerow(['twitter_id', 'name', 'created_at','followers_count', 'text'])\n",
    "    stream.filter(track=['Coronavirus','كورونا','confinement','corona'])"
   ]
  }
 ],
 "metadata": {
  "kernelspec": {
   "display_name": "Python 3",
   "language": "python",
   "name": "python3"
  },
  "language_info": {
   "codemirror_mode": {
    "name": "ipython",
    "version": 3
   },
   "file_extension": ".py",
   "mimetype": "text/x-python",
   "name": "python",
   "nbconvert_exporter": "python",
   "pygments_lexer": "ipython3",
   "version": "3.7.7"
  }
 },
 "nbformat": 4,
 "nbformat_minor": 4
}
