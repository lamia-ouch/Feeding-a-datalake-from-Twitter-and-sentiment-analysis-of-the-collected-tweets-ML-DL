{
 "cells": [
  {
   "cell_type": "code",
   "execution_count": 1,
   "metadata": {},
   "outputs": [
    {
     "name": "stderr",
     "output_type": "stream",
     "text": [
      "Using TensorFlow backend.\n"
     ]
    }
   ],
   "source": [
    "import numpy as np \n",
    "import pandas as pd \n",
    "from keras.preprocessing.text import Tokenizer\n",
    "from keras.preprocessing.sequence import pad_sequences\n",
    "from keras.models import Sequential\n",
    "from keras.layers import Dense, Embedding, LSTM, SpatialDropout1D\n",
    "from sklearn.model_selection import train_test_split\n",
    "from sklearn.preprocessing import LabelEncoder\n",
    "from keras.utils.np_utils import to_categorical\n",
    "import re\n",
    "import matplotlib.pyplot as plt\n",
    "import seaborn as sns"
   ]
  },
  {
   "cell_type": "markdown",
   "metadata": {},
   "source": [
    "### Imbalanced \n"
   ]
  },
  {
   "cell_type": "code",
   "execution_count": 2,
   "metadata": {},
   "outputs": [],
   "source": [
    "df= pd.read_csv('test17.csv')"
   ]
  },
  {
   "cell_type": "code",
   "execution_count": 3,
   "metadata": {},
   "outputs": [],
   "source": [
    "df = df\n",
    "df = df.dropna()\n",
    "df.isna().sum()\n",
    "df = df[[\"text\",\"Sentiment\"]]"
   ]
  },
  {
   "cell_type": "code",
   "execution_count": 4,
   "metadata": {},
   "outputs": [],
   "source": [
    "X = df.text\n",
    "Y = df.Sentiment\n",
    "label_encoder = LabelEncoder()\n",
    "Y = label_encoder.fit_transform(Y)\n",
    "Y = to_categorical(Y)\n"
   ]
  },
  {
   "cell_type": "code",
   "execution_count": 5,
   "metadata": {},
   "outputs": [],
   "source": [
    "max_words = len(set(\" \".join(X).split()))\n",
    "max_len = X.apply(lambda x: len(x)).max()"
   ]
  },
  {
   "cell_type": "code",
   "execution_count": 6,
   "metadata": {},
   "outputs": [
    {
     "data": {
      "text/plain": [
       "(16434, 162)"
      ]
     },
     "execution_count": 6,
     "metadata": {},
     "output_type": "execute_result"
    }
   ],
   "source": [
    "max_words, max_len"
   ]
  },
  {
   "cell_type": "code",
   "execution_count": 7,
   "metadata": {},
   "outputs": [],
   "source": [
    "tokenizer = Tokenizer(num_words=max_words)\n",
    "tokenizer.fit_on_texts(X)\n",
    "X = tokenizer.texts_to_sequences(X)\n",
    "X = pad_sequences(X)"
   ]
  },
  {
   "cell_type": "code",
   "execution_count": 8,
   "metadata": {},
   "outputs": [],
   "source": [
    "X_train, X_test, Y_train, Y_test = train_test_split(X, Y, test_size=0.3)"
   ]
  },
  {
   "cell_type": "code",
   "execution_count": 9,
   "metadata": {},
   "outputs": [
    {
     "name": "stdout",
     "output_type": "stream",
     "text": [
      "Model: \"sequential_1\"\n",
      "_________________________________________________________________\n",
      "Layer (type)                 Output Shape              Param #   \n",
      "=================================================================\n",
      "embedding_1 (Embedding)      (None, 24, 100)           1643400   \n",
      "_________________________________________________________________\n",
      "spatial_dropout1d_1 (Spatial (None, 24, 100)           0         \n",
      "_________________________________________________________________\n",
      "lstm_1 (LSTM)                (None, 200)               240800    \n",
      "_________________________________________________________________\n",
      "dense_1 (Dense)              (None, 3)                 603       \n",
      "=================================================================\n",
      "Total params: 1,884,803\n",
      "Trainable params: 1,884,803\n",
      "Non-trainable params: 0\n",
      "_________________________________________________________________\n",
      "None\n"
     ]
    }
   ],
   "source": [
    "embed_dim = 128\n",
    "lstm_out = 200\n",
    "\n",
    "model = Sequential()\n",
    "model.add(Embedding(max_words, 100, input_length=X.shape[1]))\n",
    "model.add(SpatialDropout1D(0.4))\n",
    "model.add(LSTM(lstm_out, dropout=0.3, recurrent_dropout=0.2))\n",
    "model.add(Dense(3,activation='softmax'))\n",
    "model.compile(loss = 'categorical_crossentropy', optimizer='adam',metrics = ['accuracy'])\n",
    "print(model.summary())"
   ]
  },
  {
   "cell_type": "code",
   "execution_count": 10,
   "metadata": {},
   "outputs": [
    {
     "name": "stderr",
     "output_type": "stream",
     "text": [
      "C:\\Users\\ab\\anaconda3\\envs\\tf\\lib\\site-packages\\tensorflow_core\\python\\framework\\indexed_slices.py:424: UserWarning: Converting sparse IndexedSlices to a dense Tensor of unknown shape. This may consume a large amount of memory.\n",
      "  \"Converting sparse IndexedSlices to a dense Tensor of unknown shape. \"\n"
     ]
    },
    {
     "name": "stdout",
     "output_type": "stream",
     "text": [
      "Train on 4827 samples, validate on 1207 samples\n",
      "Epoch 1/10\n",
      "4827/4827 [==============================] - 15s 3ms/step - loss: 0.7803 - accuracy: 0.7464 - val_loss: 0.6965 - val_accuracy: 0.7548\n",
      "Epoch 2/10\n",
      "4827/4827 [==============================] - 12s 2ms/step - loss: 0.6159 - accuracy: 0.7661 - val_loss: 0.5396 - val_accuracy: 0.7788\n",
      "Epoch 3/10\n",
      "4827/4827 [==============================] - 12s 2ms/step - loss: 0.4299 - accuracy: 0.8245 - val_loss: 0.5241 - val_accuracy: 0.7945\n",
      "Epoch 4/10\n",
      "4827/4827 [==============================] - 11s 2ms/step - loss: 0.3165 - accuracy: 0.8720 - val_loss: 0.5411 - val_accuracy: 0.7920\n",
      "Epoch 5/10\n",
      "4827/4827 [==============================] - 11s 2ms/step - loss: 0.2279 - accuracy: 0.9159 - val_loss: 0.5523 - val_accuracy: 0.8028\n",
      "Epoch 6/10\n",
      "4827/4827 [==============================] - 11s 2ms/step - loss: 0.1468 - accuracy: 0.9540 - val_loss: 0.5777 - val_accuracy: 0.8061\n",
      "Epoch 7/10\n",
      "4827/4827 [==============================] - 12s 2ms/step - loss: 0.1014 - accuracy: 0.9695 - val_loss: 0.6318 - val_accuracy: 0.8094\n",
      "Epoch 8/10\n",
      "4827/4827 [==============================] - 11s 2ms/step - loss: 0.0743 - accuracy: 0.9778 - val_loss: 0.6536 - val_accuracy: 0.7970\n",
      "Epoch 9/10\n",
      "4827/4827 [==============================] - 11s 2ms/step - loss: 0.0586 - accuracy: 0.9847 - val_loss: 0.7651 - val_accuracy: 0.8020\n",
      "Epoch 10/10\n",
      "4827/4827 [==============================] - 11s 2ms/step - loss: 0.0512 - accuracy: 0.9869 - val_loss: 0.7634 - val_accuracy: 0.7970\n"
     ]
    }
   ],
   "source": [
    "verbose = 1\n",
    "epochs = 10\n",
    "batch_size = 120\n",
    "validation_split = 0.2\n",
    "history1 = model.fit(X_train,Y_train,batch_size=batch_size,epochs=epochs,verbose=verbose,validation_split=validation_split)"
   ]
  },
  {
   "cell_type": "code",
   "execution_count": 11,
   "metadata": {},
   "outputs": [],
   "source": [
    "def plot_performance(history=None, figure_directory=None, ylim_pad=[0, 0]):\n",
    "    xlabel = 'Epoch'\n",
    "    legends = ['Training', 'Validation']\n",
    "\n",
    "    plt.figure(figsize=(20, 5))\n",
    "\n",
    "    y1 = history.history['accuracy']\n",
    "    y2 = history.history['val_accuracy']\n",
    "\n",
    "    min_y = min(min(y1), min(y2))-ylim_pad[0]\n",
    "    max_y = max(max(y1), max(y2))+ylim_pad[0]\n",
    "\n",
    "\n",
    "    plt.subplot(121)\n",
    "\n",
    "    plt.plot(y1)\n",
    "    plt.plot(y2)\n",
    "\n",
    "    plt.title('Model Accuracy', fontsize=17)\n",
    "    plt.xlabel(xlabel, fontsize=15)\n",
    "    plt.ylabel('Accuracy', fontsize=15)\n",
    "    plt.ylim(min_y, max_y)\n",
    "    plt.legend(legends, loc='upper left')\n",
    "    plt.grid()\n",
    "\n",
    "    y1 = history.history['loss']\n",
    "    y2 = history.history['val_loss']\n",
    "\n",
    "    min_y = min(min(y1), min(y2))-ylim_pad[1]\n",
    "    max_y = max(max(y1), max(y2))+ylim_pad[1]\n",
    "\n",
    "\n",
    "    plt.subplot(122)\n",
    "\n",
    "    plt.plot(y1)\n",
    "    plt.plot(y2)\n",
    "\n",
    "    plt.title('Model Loss',fontsize=17)\n",
    "    plt.xlabel(xlabel, fontsize=15)\n",
    "    plt.ylabel('Loss', fontsize=15)\n",
    "    plt.ylim(min_y, max_y)\n",
    "    plt.legend(legends, loc='upper left')\n",
    "    plt.grid()\n",
    "    if figure_directory:\n",
    "        plt.savefig(figure_directory+\"/history\")\n",
    "\n",
    "    plt.show()"
   ]
  },
  {
   "cell_type": "code",
   "execution_count": 12,
   "metadata": {},
   "outputs": [
    {
     "data": {
      "image/png": "[encoded data removed]",
      "text/plain": [
       "<Figure size 1440x360 with 2 Axes>"
      ]
     },
     "metadata": {
      "needs_background": "light"
     },
     "output_type": "display_data"
    }
   ],
   "source": [
    "plot_performance(history=history1)"
   ]
  },
  {
   "cell_type": "code",
   "execution_count": 13,
   "metadata": {},
   "outputs": [
    {
     "name": "stdout",
     "output_type": "stream",
     "text": [
      "2587/2587 [==============================] - 2s 788us/step\n"
     ]
    }
   ],
   "source": [
    "accuracy = model.evaluate(X_test, Y_test)"
   ]
  },
  {
   "cell_type": "code",
   "execution_count": 14,
   "metadata": {},
   "outputs": [
    {
     "name": "stdout",
     "output_type": "stream",
     "text": [
      "\n",
      "Model Performance of CNN (Test Accuracy):\n",
      "v: 81.02%\n",
      "Loss: 0.704\n",
      "\n"
     ]
    }
   ],
   "source": [
    "print(\"\\nModel Performance of CNN (Test Accuracy):\")\n",
    "print('v: {:0.2f}%\\nLoss: {:0.3f}\\n'.format(accuracy[1]*100, accuracy[0]))"
   ]
  },
  {
   "cell_type": "markdown",
   "metadata": {},
   "source": [
    "### Balanced"
   ]
  },
  {
   "cell_type": "code",
   "execution_count": 15,
   "metadata": {},
   "outputs": [],
   "source": [
    "df= pd.read_csv('test17.csv')"
   ]
  },
  {
   "cell_type": "code",
   "execution_count": 16,
   "metadata": {},
   "outputs": [],
   "source": [
    "df = df\n",
    "df = df.dropna()\n",
    "df.isna().sum()\n",
    "df = df[[\"text\",\"Sentiment\"]]"
   ]
  },
  {
   "cell_type": "code",
   "execution_count": 17,
   "metadata": {},
   "outputs": [],
   "source": [
    "X = df.text\n",
    "Y = df.Sentiment\n",
    "label_encoder = LabelEncoder()\n",
    "Y = label_encoder.fit_transform(Y)\n",
    "Y = to_categorical(Y)"
   ]
  },
  {
   "cell_type": "code",
   "execution_count": 18,
   "metadata": {},
   "outputs": [],
   "source": [
    "max_words = len(set(\" \".join(X).split()))\n",
    "max_len = X.apply(lambda x: len(x)).max()"
   ]
  },
  {
   "cell_type": "code",
   "execution_count": 19,
   "metadata": {},
   "outputs": [],
   "source": [
    "tokenizer = Tokenizer(num_words=max_words)\n",
    "tokenizer.fit_on_texts(X)\n",
    "X_train_seq = tokenizer.texts_to_sequences(X)\n",
    "X_train_seq = pad_sequences(X_train_seq)"
   ]
  },
  {
   "cell_type": "code",
   "execution_count": 20,
   "metadata": {},
   "outputs": [],
   "source": [
    "from imblearn.over_sampling import RandomOverSampler\n",
    "os=RandomOverSampler()"
   ]
  },
  {
   "cell_type": "code",
   "execution_count": 21,
   "metadata": {},
   "outputs": [
    {
     "name": "stderr",
     "output_type": "stream",
     "text": [
      "C:\\Users\\ab\\anaconda3\\envs\\tf\\lib\\site-packages\\sklearn\\utils\\validation.py:71: FutureWarning: Pass classes=[0 1 2] as keyword args. From version 0.25 passing these as positional arguments will result in an error\n",
      "  FutureWarning)\n"
     ]
    }
   ],
   "source": [
    "X,Y= os.fit_sample(X_train_seq, Y)"
   ]
  },
  {
   "cell_type": "code",
   "execution_count": 22,
   "metadata": {},
   "outputs": [],
   "source": [
    "X_train, X_test, Y_train, Y_test = train_test_split(X, Y, test_size=0.3)"
   ]
  },
  {
   "cell_type": "code",
   "execution_count": 23,
   "metadata": {},
   "outputs": [
    {
     "name": "stdout",
     "output_type": "stream",
     "text": [
      "Model: \"sequential_2\"\n",
      "_________________________________________________________________\n",
      "Layer (type)                 Output Shape              Param #   \n",
      "=================================================================\n",
      "embedding_2 (Embedding)      (None, 24, 100)           1643400   \n",
      "_________________________________________________________________\n",
      "spatial_dropout1d_2 (Spatial (None, 24, 100)           0         \n",
      "_________________________________________________________________\n",
      "lstm_2 (LSTM)                (None, 200)               240800    \n",
      "_________________________________________________________________\n",
      "dense_2 (Dense)              (None, 3)                 603       \n",
      "=================================================================\n",
      "Total params: 1,884,803\n",
      "Trainable params: 1,884,803\n",
      "Non-trainable params: 0\n",
      "_________________________________________________________________\n",
      "None\n"
     ]
    }
   ],
   "source": [
    "embed_dim = 128\n",
    "lstm_out = 200\n",
    "\n",
    "model = Sequential()\n",
    "model.add(Embedding(max_words, 100, input_length=X.shape[1]))\n",
    "model.add(SpatialDropout1D(0.4))\n",
    "model.add(LSTM(lstm_out, dropout=0.3, recurrent_dropout=0.2))\n",
    "model.add(Dense(3,activation='softmax'))\n",
    "model.compile(loss = 'categorical_crossentropy', optimizer='adam',metrics = ['accuracy'])\n",
    "print(model.summary())"
   ]
  },
  {
   "cell_type": "code",
   "execution_count": 24,
   "metadata": {},
   "outputs": [
    {
     "name": "stderr",
     "output_type": "stream",
     "text": [
      "C:\\Users\\ab\\anaconda3\\envs\\tf\\lib\\site-packages\\tensorflow_core\\python\\framework\\indexed_slices.py:424: UserWarning: Converting sparse IndexedSlices to a dense Tensor of unknown shape. This may consume a large amount of memory.\n",
      "  \"Converting sparse IndexedSlices to a dense Tensor of unknown shape. \"\n"
     ]
    },
    {
     "name": "stdout",
     "output_type": "stream",
     "text": [
      "Train on 10884 samples, validate on 2721 samples\n",
      "Epoch 1/10\n",
      "10884/10884 [==============================] - 27s 2ms/step - loss: 0.8664 - accuracy: 0.5958 - val_loss: 0.4730 - val_accuracy: 0.8350\n",
      "Epoch 2/10\n",
      "10884/10884 [==============================] - 24s 2ms/step - loss: 0.3191 - accuracy: 0.8837 - val_loss: 0.2707 - val_accuracy: 0.9067\n",
      "Epoch 3/10\n",
      "10884/10884 [==============================] - 26s 2ms/step - loss: 0.1489 - accuracy: 0.9532 - val_loss: 0.2195 - val_accuracy: 0.9302\n",
      "Epoch 4/10\n",
      "10884/10884 [==============================] - 27s 2ms/step - loss: 0.0915 - accuracy: 0.9739 - val_loss: 0.1833 - val_accuracy: 0.9434\n",
      "Epoch 5/10\n",
      "10884/10884 [==============================] - 25s 2ms/step - loss: 0.0595 - accuracy: 0.9833 - val_loss: 0.2137 - val_accuracy: 0.9316\n",
      "Epoch 6/10\n",
      "10884/10884 [==============================] - 26s 2ms/step - loss: 0.0419 - accuracy: 0.9884 - val_loss: 0.2096 - val_accuracy: 0.9408\n",
      "Epoch 7/10\n",
      "10884/10884 [==============================] - 25s 2ms/step - loss: 0.0341 - accuracy: 0.9910 - val_loss: 0.1901 - val_accuracy: 0.9511\n",
      "Epoch 8/10\n",
      "10884/10884 [==============================] - 24s 2ms/step - loss: 0.0296 - accuracy: 0.9901 - val_loss: 0.2249 - val_accuracy: 0.9452\n",
      "Epoch 9/10\n",
      "10884/10884 [==============================] - 17s 2ms/step - loss: 0.0294 - accuracy: 0.9926 - val_loss: 0.2072 - val_accuracy: 0.9438\n",
      "Epoch 10/10\n",
      "10884/10884 [==============================] - 17s 2ms/step - loss: 0.0276 - accuracy: 0.9915 - val_loss: 0.1840 - val_accuracy: 0.9500\n"
     ]
    }
   ],
   "source": [
    "verbose = 1\n",
    "epochs = 10\n",
    "batch_size = 120\n",
    "validation_split = 0.2\n",
    "history1 = model.fit(X_train,Y_train,batch_size=batch_size,epochs=epochs,verbose=verbose,validation_split=validation_split)"
   ]
  },
  {
   "cell_type": "code",
   "execution_count": 25,
   "metadata": {},
   "outputs": [],
   "source": [
    "def plot_performance(history=None, figure_directory=None, ylim_pad=[0, 0]):\n",
    "    xlabel = 'Epoch'\n",
    "    legends = ['Training', 'Validation']\n",
    "\n",
    "    plt.figure(figsize=(20, 5))\n",
    "\n",
    "    y1 = history.history['accuracy']\n",
    "    y2 = history.history['val_accuracy']\n",
    "\n",
    "    min_y = min(min(y1), min(y2))-ylim_pad[0]\n",
    "    max_y = max(max(y1), max(y2))+ylim_pad[0]\n",
    "\n",
    "\n",
    "    plt.subplot(121)\n",
    "\n",
    "    plt.plot(y1)\n",
    "    plt.plot(y2)\n",
    "\n",
    "    plt.title('Model Accuracy', fontsize=17)\n",
    "    plt.xlabel(xlabel, fontsize=15)\n",
    "    plt.ylabel('Accuracy', fontsize=15)\n",
    "    plt.ylim(min_y, max_y)\n",
    "    plt.legend(legends, loc='upper left')\n",
    "    plt.grid()\n",
    "\n",
    "    y1 = history.history['loss']\n",
    "    y2 = history.history['val_loss']\n",
    "\n",
    "    min_y = min(min(y1), min(y2))-ylim_pad[1]\n",
    "    max_y = max(max(y1), max(y2))+ylim_pad[1]\n",
    "\n",
    "\n",
    "    plt.subplot(122)\n",
    "\n",
    "    plt.plot(y1)\n",
    "    plt.plot(y2)\n",
    "\n",
    "    plt.title('Model Loss',fontsize=17)\n",
    "    plt.xlabel(xlabel, fontsize=15)\n",
    "    plt.ylabel('Loss', fontsize=15)\n",
    "    plt.ylim(min_y, max_y)\n",
    "    plt.legend(legends, loc='upper left')\n",
    "    plt.grid()\n",
    "    if figure_directory:\n",
    "        plt.savefig(figure_directory+\"/history\")\n",
    "\n",
    "    plt.show()"
   ]
  },
  {
   "cell_type": "code",
   "execution_count": 26,
   "metadata": {},
   "outputs": [
    {
     "data": {
      "image/png": "[encoded data removed]",
      "text/plain": [
       "<Figure size 1440x360 with 2 Axes>"
      ]
     },
     "metadata": {
      "needs_background": "light"
     },
     "output_type": "display_data"
    }
   ],
   "source": [
    "plot_performance(history=history1)"
   ]
  },
  {
   "cell_type": "code",
   "execution_count": 27,
   "metadata": {},
   "outputs": [
    {
     "name": "stdout",
     "output_type": "stream",
     "text": [
      "5832/5832 [==============================] - 3s 579us/step\n"
     ]
    }
   ],
   "source": [
    "accuracy = model.evaluate(X_test, Y_test)"
   ]
  },
  {
   "cell_type": "code",
   "execution_count": 28,
   "metadata": {},
   "outputs": [
    {
     "name": "stdout",
     "output_type": "stream",
     "text": [
      "\n",
      "Model Performance of CNN (Test Accuracy):\n",
      "v: 95.16%\n",
      "Loss: 0.183\n",
      "\n"
     ]
    }
   ],
   "source": [
    "print(\"\\nModel Performance of CNN (Test Accuracy):\")\n",
    "print('v: {:0.2f}%\\nLoss: {:0.3f}\\n'.format(accuracy[1]*100, accuracy[0]))"
   ]
  },
  {
   "cell_type": "code",
   "execution_count": null,
   "metadata": {},
   "outputs": [],
   "source": []
  }
 ],
 "metadata": {
  "kernelspec": {
   "display_name": "Python 3",
   "language": "python",
   "name": "python3"
  },
  "language_info": {
   "codemirror_mode": {
    "name": "ipython",
    "version": 3
   },
   "file_extension": ".py",
   "mimetype": "text/x-python",
   "name": "python",
   "nbconvert_exporter": "python",
   "pygments_lexer": "ipython3",
   "version": "3.7.7"
  }
 },
 "nbformat": 4,
 "nbformat_minor": 4
}
